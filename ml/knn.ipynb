{
 "cells": [
  {
   "cell_type": "markdown",
   "metadata": {},
   "source": [
    "# k近邻\n",
    "$d = \\quad \\sqrt[p]{|x_1 - x_2|^{p}}$\n",
    "* p = 1：曼哈顿距离\n",
    "* p = 2：欧氏距离\n",
    "* p = 无限大：闵氏距离"
   ]
  },
  {
   "cell_type": "code",
   "execution_count": 1,
   "metadata": {},
   "outputs": [],
   "source": [
    "import math"
   ]
  },
  {
   "cell_type": "code",
   "execution_count": 2,
   "metadata": {},
   "outputs": [],
   "source": [
    "# 输入两个样本a和b，输出它们的Lp距离\n",
    "def distance(a,b,p = 2): # 默认是欧氏距离\n",
    "    if p == float('inf'):\n",
    "        maxi = float('-inf') # 一个足够小的数\n",
    "        for i in range(len(a)):\n",
    "            maxi = max(maxi,abs(a[i] - b[i])) # 找出所有维度中最大的差值\n",
    "        return maxi\n",
    "    else:\n",
    "        sum = 0\n",
    "        for i in range(len(a)):\n",
    "            sum += math.pow(abs(a[i] - b[i]),p)\n",
    "        return math.pow(sum,1.0/p)"
   ]
  },
  {
   "cell_type": "markdown",
   "metadata": {},
   "source": [
    "## 计算范数"
   ]
  },
  {
   "cell_type": "code",
   "execution_count": 3,
   "metadata": {},
   "outputs": [
    {
     "name": "stdout",
     "output_type": "stream",
     "text": [
      "distance(x1,x2,p=1) = 4.0\n",
      "distance(x1,x2,p=2) = 4.0\n",
      "distance(x1,x2,p=3) = 3.9999999999999996\n",
      "distance(x1,x2,p=4) = 4.0\n",
      "distance(x1,x2,p=float('inf')) = 4\n",
      "-------------------------------\n",
      "distance(x1,x3,p=1) = 6.0\n",
      "distance(x1,x3,p=2) = 4.242640687119285\n",
      "distance(x1,x3,p=3) = 3.7797631496846193\n",
      "distance(x1,x3,p=4) = 3.5676213450081633\n",
      "distance(x1,x3,p=float('inf')) = 3\n"
     ]
    }
   ],
   "source": [
    "x1 = [1,1]\n",
    "x2 = [5,1]\n",
    "x3 = [4,4]\n",
    "print(\"distance(x1,x2,p=1) = {}\\n\\\n",
    "distance(x1,x2,p=2) = {}\\n\\\n",
    "distance(x1,x2,p=3) = {}\\n\\\n",
    "distance(x1,x2,p=4) = {}\\n\\\n",
    "distance(x1,x2,p=float('inf')) = {}\\n\\\n",
    "-------------------------------\\n\\\n",
    "distance(x1,x3,p=1) = {}\\n\\\n",
    "distance(x1,x3,p=2) = {}\\n\\\n",
    "distance(x1,x3,p=3) = {}\\n\\\n",
    "distance(x1,x3,p=4) = {}\\n\\\n",
    "distance(x1,x3,p=float('inf')) = {}\".format(distance(x1,x2,p=1),\\\n",
    "                                            distance(x1,x2,p=2),\\\n",
    "                                            distance(x1,x2,p=3), \\\n",
    "                                            distance(x1,x2,p=4),\\\n",
    "                                            distance(x1,x2,p=float('inf')),\\\n",
    "                                 distance(x1,x3,p=1),\\\n",
    "                                 distance(x1,x3,p=2),\\\n",
    "                                 distance(x1,x3,p=3),\\\n",
    "                                 distance(x1,x3,p=4),\\\n",
    "                                 distance(x1,x3,p=float('inf'))\n",
    "                                 \n",
    "                                           ))"
   ]
  },
  {
   "cell_type": "code",
   "execution_count": 4,
   "metadata": {},
   "outputs": [],
   "source": [
    "## 使用numpy.linalg.norm函数计算范数"
   ]
  },
  {
   "cell_type": "code",
   "execution_count": 5,
   "metadata": {},
   "outputs": [],
   "source": [
    "import numpy as np"
   ]
  },
  {
   "cell_type": "code",
   "execution_count": 6,
   "metadata": {},
   "outputs": [
    {
     "name": "stdout",
     "output_type": "stream",
     "text": [
      "4.0\n",
      "4.0\n",
      "3.9999999999999996\n",
      "4.0\n",
      "4.0\n",
      "--------------------\n",
      "6.0\n",
      "4.242640687119285\n",
      "3.7797631496846193\n",
      "3.5676213450081633\n",
      "3.0\n"
     ]
    }
   ],
   "source": [
    "print(np.linalg.norm(np.array(x1) - np.array(x2), ord = 1))\n",
    "print(np.linalg.norm(np.array(x1) - np.array(x2), ord = 2))\n",
    "print(np.linalg.norm(np.array(x1) - np.array(x2), ord = 3))\n",
    "print(np.linalg.norm(np.array(x1) - np.array(x2), ord = 4))\n",
    "print(np.linalg.norm(np.array(x1) - np.array(x2), ord = float('inf')))\n",
    "print('--------------------')\n",
    "print(np.linalg.norm(np.array(x1) - np.array(x3), ord = 1))\n",
    "print(np.linalg.norm(np.array(x1) - np.array(x3), ord = 2))\n",
    "print(np.linalg.norm(np.array(x1) - np.array(x3), ord = 3))\n",
    "print(np.linalg.norm(np.array(x1) - np.array(x3), ord = 4))\n",
    "print(np.linalg.norm(np.array(x1) - np.array(x3), ord = float('inf')))"
   ]
  },
  {
   "cell_type": "markdown",
   "metadata": {},
   "source": [
    "## 载入鸢尾花数据集"
   ]
  },
  {
   "cell_type": "code",
   "execution_count": 7,
   "metadata": {},
   "outputs": [],
   "source": [
    "import pandas as pd\n",
    "from sklearn.datasets import load_iris\n",
    "import matplotlib.pyplot as plt\n",
    "%matplotlib inline\n",
    "\n",
    "np.random.seed()"
   ]
  },
  {
   "cell_type": "code",
   "execution_count": 8,
   "metadata": {},
   "outputs": [],
   "source": [
    "iris = load_iris()\n",
    "iris_df = pd.DataFrame(iris.data,columns = iris.feature_names)\n",
    "iris_df['label'] = iris.target"
   ]
  },
  {
   "cell_type": "code",
   "execution_count": 9,
   "metadata": {},
   "outputs": [
    {
     "name": "stdout",
     "output_type": "stream",
     "text": [
      "(100, 3)\n"
     ]
    }
   ],
   "source": [
    "# 取前100行的第0列，第1列，最后1列数据\n",
    "data = np.array(iris_df.iloc[:100,[0,1,-1]])\n",
    "X,Y = data[:,:-1], data[:,-1]\n",
    "print(data.shape)"
   ]
  },
  {
   "cell_type": "code",
   "execution_count": 10,
   "metadata": {},
   "outputs": [
    {
     "data": {
      "text/plain": [
       "<matplotlib.legend.Legend at 0x2273db58970>"
      ]
     },
     "execution_count": 10,
     "metadata": {},
     "output_type": "execute_result"
    },
    {
     "data": {
      "image/png": "[encoded data removed]",
      "text/plain": [
       "<Figure size 432x288 with 1 Axes>"
      ]
     },
     "metadata": {
      "needs_background": "light"
     },
     "output_type": "display_data"
    }
   ],
   "source": [
    "# 绘制训练数据集\n",
    "plt.plot(data[:50,0],data[:50,1],'+',label='0')\n",
    "plt.plot(data[50:100,0],data[50:100,1],'.',label='1')\n",
    "plt.xlabel('sepal length(cm)')\n",
    "plt.ylabel('sepal width(cm)')\n",
    "plt.legend()"
   ]
  },
  {
   "cell_type": "code",
   "execution_count": 11,
   "metadata": {},
   "outputs": [],
   "source": [
    "# 保存数据集\n",
    "np.savez_compressed('iris.npz',data=data,X=X,Y=Y)"
   ]
  },
  {
   "cell_type": "code",
   "execution_count": 12,
   "metadata": {},
   "outputs": [],
   "source": [
    "# 测试刚才保存的数据集\n",
    "iris_npz = np.load('iris.npz')\n",
    "data = iris_npz['data']\n",
    "X = iris_npz['X']\n",
    "Y = iris_npz['Y']"
   ]
  },
  {
   "cell_type": "code",
   "execution_count": 13,
   "metadata": {},
   "outputs": [
    {
     "data": {
      "text/plain": [
       "<matplotlib.legend.Legend at 0x2273dc69130>"
      ]
     },
     "execution_count": 13,
     "metadata": {},
     "output_type": "execute_result"
    },
    {
     "data": {
      "image/png": "[encoded data removed]",
      "text/plain": [
       "<Figure size 432x288 with 1 Axes>"
      ]
     },
     "metadata": {
      "needs_background": "light"
     },
     "output_type": "display_data"
    }
   ],
   "source": [
    "plt.plot(data[:50,0],data[:50,1],'+',label='0')\n",
    "plt.plot(data[50:100,0],data[50:100,1],'.',label='1')\n",
    "plt.xlabel('sepal length(cm)')\n",
    "plt.ylabel('sepal width(cm)')\n",
    "plt.legend()"
   ]
  },
  {
   "cell_type": "markdown",
   "metadata": {},
   "source": [
    "## kd数的生成"
   ]
  },
  {
   "cell_type": "code",
   "execution_count": 14,
   "metadata": {},
   "outputs": [],
   "source": [
    "class KDNode: # KD树节点\n",
    "    def __init__(self,sample,feature_index,left,right):\n",
    "        self.sample = sample # 当前节点的值\n",
    "        self.feature_index = feature_index # 维度下标（l）\n",
    "        self.left = left # 左子树\n",
    "        self.right = right # 右子树"
   ]
  },
  {
   "cell_type": "code",
   "execution_count": 15,
   "metadata": {},
   "outputs": [],
   "source": [
    "class KDTree:\n",
    "    def __init__(self,dataset):\n",
    "        self.n_features = dataset.shape[1] - 1 # 设定维度，最后一列是标签\n",
    "        self.root = self.Build(dataset,0)\n",
    "    # 从第 feature_index维度开始，在数据集dataset上构建 KD树\n",
    "    def Build(self,dataset,feature_index):\n",
    "        if len(dataset) == 0:\n",
    "            return None\n",
    "        dataset = sorted(dataset,key=lambda x:x[feature_index]) # 按照维度排序\n",
    "        split_pos = len(dataset)//2 # 找到中位数\n",
    "        \n",
    "        # 生成一个节点，在 feature_index 维度上，它处于数据集中间位置\n",
    "        # 小于和大于 dataset[split_pos] 的数据分别构建当前节点的左右子树，子树维度为: feature + 1\n",
    "        return KDNode(dataset[split_pos], feature_index,\\\n",
    "                    self.Build(dataset[:split_pos], (feature_index + 1)\\\n",
    "                    % self.n_features),\\\n",
    "                    self.Build(dataset[split_pos+1:], (feature_index + 1)\\\n",
    "                    % self.n_features))\n",
    "    \n",
    "    # 参数：KDTree 树节点 KDNode、源数据点、KDTree 中的最近数据点、最近距离\n",
    "    # 返回：KDTree 中的最近数据点、最近距离\n",
    "    # kdnode最开始表示根节点root，source是需要分类的节点，target是想要找到的离source最近的节点\n",
    "    def _FindNearest(self,kdnode,source,target,mindist): \n",
    "        # 叶子节点的左右节点都为None\n",
    "        if kdnode == None: # 无节点可以访问\n",
    "            return None, float('inf') # 数据点，距离\n",
    "        \n",
    "        # 当前节点\n",
    "        pivot = kdnode.sample\n",
    "        # 在 feature_index 维度上，当前源数据点的值小于等于当前节点的值\n",
    "        # 每一个节点的feature_index值在构建kd树时就已决定好\n",
    "        if source[kdnode.feature_index] <= pivot[kdnode.feature_index]: # 左子树\n",
    "            forward = kdnode.left\n",
    "            backward = kdnode.right\n",
    "        else: #右子树\n",
    "            forward = kdnode.right\n",
    "            backward = kdnode.left\n",
    "            \n",
    "        # 往子树递归访问\n",
    "        # 将节点forward作为根节点\n",
    "        forward_result = self._FindNearest(forward,source,target,mindist) # [节点，最小距离]\n",
    "        if forward_result[1] < mindist: # 发现目前最近距离\n",
    "            target = forward_result[0]\n",
    "            mindist = forward_result[1]\n",
    "            \n",
    "        # -1.去除标签数据\n",
    "        to_pivot = np.linalg.norm(source[:-1] - pivot[:-1],ord = 2) # linalg=linear（线性）+algebra（代数），norm表示范数。\n",
    "        # x_norm=np.linalg.norm(x, ord=None, axis=None, keepdims=False)\n",
    "        # x是一个矩阵\n",
    "        # axis：处理类型，None表示矩阵范数，1表示按行向量处理，0表示按列向量处理\n",
    "        # keepding：是否保持矩阵的二维特性\n",
    "        \n",
    "        # pivot离source更远，不可能找到更近的点，不访问另一分支backward，直接返回\n",
    "        if mindist < to_pivot:\n",
    "            return target,mindist\n",
    "        \n",
    "        # 发现更近的数据点，更新数据\n",
    "        target = pivot\n",
    "        mindist = to_pivot\n",
    "        backward_result = self._FindNearest(backward, source, target, mindist)\n",
    "        # 继续在另一分支backward上搜索，有可能找到更近的点\n",
    "        if backward_result[1] < mindist: # 发现目前最近距离          \n",
    "            target = backward_result[0]\n",
    "            mindist = backward_result[1] \n",
    "        return target,mindist\n",
    "        \n",
    "    def Nearest(self,source):\n",
    "        result = self._FindNearest(self.root,source,None,float('inf'))\n",
    "        return result[0] # 返回KDTree中最近数据点\n",
    "            \n",
    "    \n",
    "    "
   ]
  },
  {
   "cell_type": "markdown",
   "metadata": {},
   "source": [
    "## 测试"
   ]
  },
  {
   "cell_type": "code",
   "execution_count": 16,
   "metadata": {},
   "outputs": [],
   "source": [
    "# 最后一列是标签\n",
    "example_data = np.array([[2,3,0],[5,4,0],[9,6,0],[4,7,1],[8,1,1],[7,2,1]])\n",
    "example_kdtree = KDTree(example_data)"
   ]
  },
  {
   "cell_type": "code",
   "execution_count": 17,
   "metadata": {},
   "outputs": [
    {
     "name": "stdout",
     "output_type": "stream",
     "text": [
      "[7 2 1]\n",
      "[5 4 0]\n",
      "[2 3 0]\n",
      "[4 7 1]\n",
      "[9 6 0]\n",
      "[8 1 1]\n"
     ]
    }
   ],
   "source": [
    "# 按先根遍历打印KDTree\n",
    "def print_kdtree(root):\n",
    "    if root == None:\n",
    "        return\n",
    "    print(root.sample)\n",
    "    print_kdtree(root.left)\n",
    "    print_kdtree(root.right)\n",
    "print_kdtree(example_kdtree.root)"
   ]
  },
  {
   "cell_type": "code",
   "execution_count": 18,
   "metadata": {},
   "outputs": [
    {
     "name": "stdout",
     "output_type": "stream",
     "text": [
      "Nearest: [4 7 1]\n"
     ]
    }
   ],
   "source": [
    "# 在KDTree中搜索\n",
    "source = np.array([2,16,0])\n",
    "print('Nearest:',example_kdtree.Nearest(source))"
   ]
  },
  {
   "cell_type": "markdown",
   "metadata": {},
   "source": [
    "## 按穷举法搜索"
   ]
  },
  {
   "cell_type": "code",
   "execution_count": 19,
   "metadata": {},
   "outputs": [
    {
     "name": "stdout",
     "output_type": "stream",
     "text": [
      "Nearest: [4 7 1]\n"
     ]
    }
   ],
   "source": [
    "print('Nearest:',example_data[np.argmin([np.linalg.norm(item[:-1]-source[:-1],ord=2) for item in example_data])]) \n",
    "# np.argmin:给出水平方向最小值的下标\n",
    "# 计算source和item之间的L2距离，找出最小的一个\n",
    "# \"[for item in ...]\"这种语句叫列表生成器"
   ]
  },
  {
   "cell_type": "markdown",
   "metadata": {},
   "source": [
    "## 测试随机生成的数据"
   ]
  },
  {
   "cell_type": "code",
   "execution_count": 26,
   "metadata": {},
   "outputs": [],
   "source": [
    "import time\n",
    "from random import random\n",
    "# No module named 'time.clock'; 'time' is not a package\n",
    "# time模块中的clock()已被移除，可以用time.perf_counter()代替"
   ]
  },
  {
   "cell_type": "code",
   "execution_count": 25,
   "metadata": {},
   "outputs": [
    {
     "name": "stdout",
     "output_type": "stream",
     "text": [
      "KDTree building time:  10.126338299999986 s\n",
      "Nearst: [0.04821266 0.05123773 0.33358951 0.51721827 0.17016226 0.90553406]\n",
      "KDTree searching time:  0.0014681999999766049 s\n",
      "Nearst: [0.04821266 0.05123773 0.33358951 0.51721827 0.17016226 0.90553406]\n",
      "One-by-one searching time:  6.907106999999996 s\n"
     ]
    }
   ],
   "source": [
    "K = 6 # 维度 5，最后 1 维，假定为标签\n",
    "N = 400000\n",
    "random_data = np.array([[random() for k in range(K)] for n in range(N)])\n",
    "t0 = time.perf_counter()\n",
    "random_kdtree = KDTree(random_data)\n",
    "t1 = time.perf_counter()\n",
    "print (\"KDTree building time: \", t1-t0, \"s\")\n",
    "source = [random() for k in range(K)]\n",
    "t0 = time.perf_counter()\n",
    "print('Nearst:', random_kdtree.Nearest(source)) # 在 KDTree 树中搜索\n",
    "t1 = time.perf_counter()\n",
    "print (\"KDTree searching time: \", t1-t0, \"s\")\n",
    "t0 = time.perf_counter()\n",
    "print('Nearst:', random_data[np.argmin([np.linalg.norm(item[:-1]-source[:-1],\n",
    "ord = 2) for item in random_data])]) # 按穷举法搜索\n",
    "t1 = time.perf_counter()\n",
    "print (\"One-by-one searching time: \", t1-t0, \"s\")"
   ]
  },
  {
   "cell_type": "markdown",
   "metadata": {},
   "source": [
    "## 测试鸢尾花数据集"
   ]
  },
  {
   "cell_type": "code",
   "execution_count": 27,
   "metadata": {},
   "outputs": [
    {
     "name": "stdout",
     "output_type": "stream",
     "text": [
      "Nearest: [5.1 3.8 0. ]\n",
      "Nearst: [5.1 3.8 0. ]\n"
     ]
    }
   ],
   "source": [
    "iris_kdtree = KDTree(data)\n",
    "source = np.array([5,4,0])\n",
    "print('Nearest:',iris_kdtree.Nearest(source)) # 在KDTree中搜索\n",
    "print('Nearst:', data[np.argmin([np.linalg.norm(item[:-1]-source[:-1],\n",
    "ord = 2) for item in data])]) # 按穷举法搜索"
   ]
  },
  {
   "cell_type": "code",
   "execution_count": 31,
   "metadata": {},
   "outputs": [
    {
     "data": {
      "text/plain": [
       "<matplotlib.legend.Legend at 0x2273e3febb0>"
      ]
     },
     "execution_count": 31,
     "metadata": {},
     "output_type": "execute_result"
    },
    {
     "data": {
      "image/png": "[encoded data removed]",
      "text/plain": [
       "<Figure size 432x288 with 1 Axes>"
      ]
     },
     "metadata": {
      "needs_background": "light"
     },
     "output_type": "display_data"
    }
   ],
   "source": [
    "source = np.array([5.2, 3.2, 0])\n",
    "target = iris_kdtree.Nearest(source)\n",
    "plt.plot(data[:50, 0], data[:50, 1], '+', label='0')\n",
    "plt.plot(data[50:100, 0], data[50:100, 1], '.', label='1')\n",
    "plt.plot(source[0], source[1], 'ro', label='Source')\n",
    "plt.scatter(target[0], target[1],color=[], marker = 'o', edgecolors = 'g', s = 100, label='Target')\n",
    "plt.xlabel('sepal length (cm)')\n",
    "plt.ylabel('sepal width (cm)')\n",
    "plt.legend()"
   ]
  },
  {
   "cell_type": "markdown",
   "metadata": {},
   "source": [
    "## sklearn 的 kNN 分类器\n",
    "*sklearn.neighbors.KNeighborsClassifier - n_neighbors: 临近点个数 - p: 距离度量 - algorithm:\n",
    "实现算法，可选 {’auto’, ’ball_tree’, ’kd_tree’, ’brute’} - weights: 确定近邻的权重*"
   ]
  },
  {
   "cell_type": "code",
   "execution_count": 32,
   "metadata": {},
   "outputs": [],
   "source": [
    "from sklearn.neighbors import KNeighborsClassifier\n",
    "from sklearn.model_selection import train_test_split"
   ]
  },
  {
   "cell_type": "code",
   "execution_count": 33,
   "metadata": {},
   "outputs": [],
   "source": [
    "# 鸢尾花数据集的 80% 用作训练数据，20% 用作测试数据\n",
    "X_train, X_test, Y_train, Y_test = train_test_split(X, Y, test_size = 0.2)"
   ]
  },
  {
   "cell_type": "code",
   "execution_count": 34,
   "metadata": {},
   "outputs": [
    {
     "data": {
      "text/plain": [
       "KNeighborsClassifier()"
      ]
     },
     "execution_count": 34,
     "metadata": {},
     "output_type": "execute_result"
    }
   ],
   "source": [
    "clf = KNeighborsClassifier()\n",
    "clf.fit(X_train, Y_train)"
   ]
  },
  {
   "cell_type": "code",
   "execution_count": 35,
   "metadata": {},
   "outputs": [
    {
     "data": {
      "text/plain": [
       "1.0"
      ]
     },
     "execution_count": 35,
     "metadata": {},
     "output_type": "execute_result"
    }
   ],
   "source": [
    "clf.score(X_test, Y_test)"
   ]
  },
  {
   "cell_type": "code",
   "execution_count": null,
   "metadata": {},
   "outputs": [],
   "source": []
  }
 ],
 "metadata": {
  "kernelspec": {
   "display_name": "Python 3",
   "language": "python",
   "name": "python3"
  },
  "language_info": {
   "codemirror_mode": {
    "name": "ipython",
    "version": 3
   },
   "file_extension": ".py",
   "mimetype": "text/x-python",
   "name": "python",
   "nbconvert_exporter": "python",
   "pygments_lexer": "ipython3",
   "version": "3.7.1"
  }
 },
 "nbformat": 4,
 "nbformat_minor": 4
}
